{
 "cells": [
  {
   "cell_type": "code",
   "execution_count": 54,
   "id": "b0652bce-0c9b-4aea-a89e-50667602d60d",
   "metadata": {},
   "outputs": [],
   "source": [
    "from tango import DeviceProxy\n",
    "import os, json\n",
    "os.environ[\"TANGO_HOST\"] = \"tango-databaseds.ci-ska-mid-itf-at-1838-update-main.svc.miditf.internal.skao.int:10000\""
   ]
  },
  {
   "cell_type": "code",
   "execution_count": 28,
   "id": "34affad2-85cd-4dcd-9a03-ceedfe937cef",
   "metadata": {},
   "outputs": [],
   "source": [
    "csp_c = DeviceProxy(\"mid-csp/control/0\")\n",
    "csp_s1= DeviceProxy(\"mid-csp/subarray/01\")\n",
    "\n",
    "cbf_c = DeviceProxy(\"mid_csp_cbf/sub_elt/controller\")\n",
    "cbf_s1 = DeviceProxy(\"mid_csp_cbf/sub_elt/subarray_01\")"
   ]
  },
  {
   "cell_type": "code",
   "execution_count": 101,
   "id": "61f1b223-3af3-441b-9352-44b0c0a09b3e",
   "metadata": {},
   "outputs": [
    {
     "name": "stdout",
     "output_type": "stream",
     "text": [
      "Checking states \n",
      "\n",
      "CSP Controller: ON\n",
      "CSP Subarray01: ON\n",
      "CBF Controller: ON\n",
      "CBF Subarray01: ON\n"
     ]
    }
   ],
   "source": [
    "print(\"Checking states \\n\")\n",
    "print(f\"CSP Controller: {csp_c.state()}\")\n",
    "print(f\"CSP Subarray01: {csp_s1.state()}\")\n",
    "print(f\"CBF Controller: {cbf_c.state()}\")\n",
    "print(f\"CBF Subarray01: {cbf_s1.state()}\")"
   ]
  },
  {
   "cell_type": "code",
   "execution_count": 77,
   "id": "58ac8d00-9bdf-4b70-b6a9-204a26fd3f33",
   "metadata": {},
   "outputs": [
    {
     "name": "stdout",
     "output_type": "stream",
     "text": [
      "Checking obsstates \n",
      "\n",
      "CSP Subarray01: EMPTY\n",
      "CBF Subarray01: EMPTY\n"
     ]
    }
   ],
   "source": [
    "print(\"Checking obsstates \\n\")\n",
    "print(f\"CSP Subarray01: {csp_s1.obsstate.name}\")\n",
    "print(f\"CBF Subarray01: {cbf_s1.obsstate.name}\")"
   ]
  },
  {
   "cell_type": "code",
   "execution_count": 84,
   "id": "74d79382-6ac7-41dc-b70f-d9b1a7245b1c",
   "metadata": {},
   "outputs": [],
   "source": [
    "csp_c.adminmode = 0"
   ]
  },
  {
   "cell_type": "code",
   "execution_count": 98,
   "id": "eb87f366-2913-4015-9ee2-e75465521821",
   "metadata": {},
   "outputs": [
    {
     "data": {
      "text/plain": [
       "[array([2], dtype=int32), ['1705069119.8064551_76954128721867_LoadDishCfg']]"
      ]
     },
     "execution_count": 98,
     "metadata": {},
     "output_type": "execute_result"
    }
   ],
   "source": [
    "dish_config = {\n",
    "    \"interface\": \"https://schema.skao.int/ska-mid-cbf-initsysparam/1.0\",\n",
    "    \"dish_parameters\": {\n",
    "        \"SKA001\": {\n",
    "            \"vcc\": 1,\n",
    "            \"k\"  : 11\n",
    "        },\n",
    "        \"SKA036\": {\n",
    "            \"vcc\": 2,\n",
    "            \"k\"  : 101\n",
    "        },\n",
    "        \"SKA063\": {\n",
    "            \"vcc\": 3,\n",
    "            \"k\"  : 1127\n",
    "        },\n",
    "        \"SKA100\": {\n",
    "            \"vcc\": 4,\n",
    "            \"k\"  : 620\n",
    "        }\n",
    "    }\n",
    "}\n",
    "csp_c.loaddishcfg(json.dumps(dish_config))"
   ]
  },
  {
   "cell_type": "code",
   "execution_count": 99,
   "id": "56c2bf95-9b2e-4334-bf7a-435b22b3f2d1",
   "metadata": {},
   "outputs": [
    {
     "name": "stdout",
     "output_type": "stream",
     "text": [
      "Checking long running command attributes \n",
      "\n",
      "Result: ('1705069119.8064551_76954128721867_LoadDishCfg', '[0, \"loaddishcfg completed  1/1\"]')\n",
      "Status: ('1705069119.8064551_76954128721867_LoadDishCfg', 'COMPLETED')\n"
     ]
    }
   ],
   "source": [
    "print(\"Checking long running command attributes \\n\")\n",
    "print(f\"Result: {csp_c.longrunningcommandresult}\")\n",
    "print(f\"Status: {csp_c.longrunningcommandstatus}\")"
   ]
  },
  {
   "cell_type": "code",
   "execution_count": 63,
   "id": "3cb6934c-334d-4a9e-bfee-411dd5a91df3",
   "metadata": {},
   "outputs": [
    {
     "name": "stdout",
     "output_type": "stream",
     "text": [
      "Controller dishVccConfig: \n",
      "Subarray dishVccConfig: {\"interface\": \"https://schema.skao.int/ska-mid-cbf-initsysparam/1.0\", \"dish_parameters\": {\"SKA001\": {\"vcc\": 1, \"k\": 11}, \"SKA036\": {\"vcc\": 2, \"k\": 101}, \"SKA063\": {\"vcc\": 3, \"k\": 1127}, \"SKA100\": {\"vcc\": 4, \"k\": 620}}}\n"
     ]
    }
   ],
   "source": [
    "#dishVccConfig is still to be populated on Controller, while it should be filled on subarray\n",
    "print(f\"Controller dishVccConfig: {csp_c.dishVccConfig}\")\n",
    "print(f\"Subarray dishVccConfig: {csp_s1.dishVccConfig}\")"
   ]
  },
  {
   "cell_type": "code",
   "execution_count": 66,
   "id": "af4133fb-2d7a-46cc-8c03-0aa8672665e2",
   "metadata": {},
   "outputs": [
    {
     "data": {
      "text/plain": [
       "''"
      ]
     },
     "execution_count": 66,
     "metadata": {},
     "output_type": "execute_result"
    }
   ],
   "source": [
    "#We espect this to be empty\n",
    "csp_c.sourceDishVccConfig"
   ]
  },
  {
   "cell_type": "code",
   "execution_count": 100,
   "id": "943b2a34-b2b2-4f6e-a62d-e99c377d80e2",
   "metadata": {},
   "outputs": [
    {
     "data": {
      "text/plain": [
       "[array([0], dtype=int32), ['CbfController On command completed OK']]"
      ]
     },
     "execution_count": 100,
     "metadata": {},
     "output_type": "execute_result"
    }
   ],
   "source": [
    "cbf_c.on()"
   ]
  },
  {
   "cell_type": "code",
   "execution_count": 90,
   "id": "52f846f5-6751-477b-aa1c-d62241b00bbb",
   "metadata": {},
   "outputs": [
    {
     "data": {
      "text/plain": [
       "'{\"interface\": \"https://schema.skao.int/ska-mid-cbf-initsysparam/1.0\", \"dish_parameters\": {\"SKA001\": {\"vcc\": 1, \"k\": 11}, \"SKA036\": {\"vcc\": 2, \"k\": 101}, \"SKA063\": {\"vcc\": 3, \"k\": 1127}, \"SKA100\": {\"vcc\": 4, \"k\": 620}}}'"
      ]
     },
     "execution_count": 90,
     "metadata": {},
     "output_type": "execute_result"
    }
   ],
   "source": [
    "cbf_s1.sysParam"
   ]
  },
  {
   "cell_type": "code",
   "execution_count": null,
   "id": "48321733-15fe-42f4-b7e9-7a80a81aadc5",
   "metadata": {},
   "outputs": [],
   "source": []
  }
 ],
 "metadata": {
  "kernelspec": {
   "display_name": "Python 3 (ipykernel)",
   "language": "python",
   "name": "python3"
  },
  "language_info": {
   "codemirror_mode": {
    "name": "ipython",
    "version": 3
   },
   "file_extension": ".py",
   "mimetype": "text/x-python",
   "name": "python",
   "nbconvert_exporter": "python",
   "pygments_lexer": "ipython3",
   "version": "3.10.6"
  }
 },
 "nbformat": 4,
 "nbformat_minor": 5
}
