{
 "cells": [
  {
   "cell_type": "code",
   "execution_count": 1,
   "id": "9d18aa53",
   "metadata": {},
   "outputs": [],
   "source": [
    "import sys\n",
    "import time\n",
    "import argparse\n",
    "import matplotlib.pyplot as plt\n",
    "import os\n",
    "\n",
    "#sys.path.append('../sig_gen/') # adding signal generator path so that we can call a script from sig_gen folder\n",
    "sys.path.insert(0, os.path.abspath(os.path.join('..') + '/scripts/sig_gen/'))\n",
    "from sg_smb100a_generate_power_levels_1 import SG_SOCK # Import the Signal Generator Socket class from sig_gen folder\n",
    "\n",
    "#from sg_smb100a_generate_power_levels_1 import power\n",
    "#%%\n",
    "#-----------------------import libraries for Spectrum analyzer----------------#\n",
    "sys.path.insert(0, os.path.abspath(os.path.join('..') + '/scripts/spec_ana/'))\n",
    "from sa_fsh8_read_channel_power_at_different_levels_1 import SA_SOCK        # Import the Spectrum Analyser Socket Function\n",
    "#from sa_fsh8_read_channel_power_at_different_levels_1 import channel_power\n",
    "\n",
    "# -----------------Connection Settings----------------------\n",
    "SG_PORT = 5025                      # default SMB R&S port \n",
    "SG_HOST = '10.8.88.166'             # smb100a signal generator IP\n",
    "SG_ADDRESS = (SG_HOST, SG_PORT)\n",
    "SA_HOST = '10.8.88.138'             # fsh8 spectrum analyzer IP temporary\n",
    "SA_PORT = 5555                      # fsh8 spectrum analyzer port 18? 23?\n",
    "SA_ADDRESS = (SA_HOST, SA_PORT)\n",
    "#-----------------------------------------------------------\n",
    "# ----------------Initialization of Variables---------------    \n",
    "DEFAULT_TIMEOUT = 1        # Default socket timeout\n",
    "RF_OFF = 0\n",
    "RF_ON = 1\n",
    "\n",
    "# -----------------SA AND SG INITIALIZATION-----------------\n",
    "\n",
    "#-----------------SA_FSH8 initialization Variables----------\n",
    "NUMPOINTS = 631   # Number of measurement points (Max=625)\n",
    "RBW = 1e5         # Resolution BW of spectrum analyser\n",
    "VBW = 3e6       # Video BW of spectrum analyser"
   ]
  },
  {
   "cell_type": "code",
   "execution_count": 2,
   "id": "e0627c71",
   "metadata": {},
   "outputs": [],
   "source": [
    "#-------------------SG_SMB100A Setup-------------------------#\n",
    "def setupSG():  \n",
    "    print('/------ Connect Signal Generator ---------/')\n",
    "    sigGen = SG_SOCK()                                 # Call main class\n",
    "    sigGen.connectSigGen(SG_ADDRESS)\n",
    "    print('/------End of Connect signal generator---------/')\n",
    "    return sigGen\n",
    "\n",
    "#------------------------SA_FSH8 Setup-------------------------#\n",
    "def setupSA():\n",
    "    print('/------Setup spectrum analyser---------/')\n",
    "    specAnal = SA_SOCK()\n",
    "    specAnal.connectSpecAna((SA_ADDRESS))\n",
    "    specAnal.setSpecAnaBandwidth('off', RBW, 'off', VBW) # Set the SA Resolution bandwidth mode to Manual, 100 KHz. Set the Video BW to Manual, 100 KHz \n",
    "    specAnal.setSpecAnaAmplitude(-10, 10) \n",
    "    print('/------End of Setup Spectrum Analyzer---------/')\n",
    "    return specAnal\n",
    "        \n",
    "#------------------------------ PLOT ---------------------------#\n",
    "def plotTrace(x_axis, y_axis, x_label, y_label, title, label): \n",
    "\n",
    "    plt.figure(figsize=(10,10))\n",
    "    plt.plot(x_axis, y_axis, 'r', label = label)\n",
    "    plt.plot(x_axis, y_axis, 'rx')\n",
    "    plt.legend()\n",
    "    plt.xlabel(x_label, fontsize = 16)\n",
    "    plt.ylabel(y_label, fontsize = 16)\n",
    "    plt.title(title, fontsize = 20)\n",
    "    plt.grid()\n",
    "    plt.show()\n",
    "\n"
   ]
  },
  {
   "cell_type": "code",
   "execution_count": 3,
   "id": "f228520a",
   "metadata": {},
   "outputs": [
    {
     "name": "stdout",
     "output_type": "stream",
     "text": [
      "/------ Connect Signal Generator ---------/\n",
      "Connected to: b'Rohde&Schwarz,SMB100A,1406.6000k02/102027,3.1.19.15-3.20.390.24 '\n",
      "/------End of Connect signal generator---------/\n",
      "RF Output Off\n",
      "/------Setup spectrum analyser---------/\n",
      "Connected to: b'Rohde&Schwarz,FSH8,106260/028,V3.30'\n",
      "SA RBW set to AUTO 0, RBW = 100.0 kHz\n",
      "SA VBW set to AUTO 0, VBW = 3000.0 kHz\n",
      "SA amplitude reference level set to REF -10.0 dBm\n",
      "SA input attenuator set to 10.0 dB\n",
      "/------End of Setup Spectrum Analyzer---------/\n",
      "SA Start Freq: 1000.0 MHz, Stop Freq: 2000.0 MHz, Points: 631\n",
      "Signal Generator Frequency = 1500.0 MHz\n",
      "RF Output On\n"
     ]
    }
   ],
   "source": [
    "freq_start = 1e9\n",
    "freq_stop = 2e9\n",
    "\n",
    "SigGen = setupSG()\n",
    "SigGen.setSigGenRF(RF_OFF)\n",
    "SpecAna = setupSA()\n",
    "time.sleep(1) \n",
    "SpecAna.setSpecAnaSweep(freq_start, freq_stop, NUMPOINTS)\n",
    "\n",
    "# Setup Signal Generator\n",
    "cent_freq = SpecAna.requestSpecAnaData('FREQ:CENT?')\n",
    "SigGen.setSigGenFreq(cent_freq.decode())\n",
    "SigGen.setSigGenRF(RF_ON)"
   ]
  },
  {
   "cell_type": "code",
   "execution_count": 4,
   "id": "7bdce4cf",
   "metadata": {},
   "outputs": [
    {
     "name": "stdout",
     "output_type": "stream",
     "text": [
      "Sig gen power = -70.0 dBm\n",
      "Spectrum Analyser Band Power: -69.649 dBm\n",
      "Sig gen power = -60.0 dBm\n",
      "Spectrum Analyser Band Power: -61.575 dBm\n",
      "Sig gen power = -50.0 dBm\n",
      "Spectrum Analyser Band Power: -51.9 dBm\n",
      "Sig gen power = -40.0 dBm\n",
      "Spectrum Analyser Band Power: -41.963 dBm\n"
     ]
    }
   ],
   "source": [
    "# Set and read channel power values\n",
    "start_power = -70\n",
    "stop_power = -40\n",
    "step_power = 10\n",
    "chan_bw = 3e6\n",
    "\n",
    "input_power = []\n",
    "sa_power_level = []\n",
    "\n",
    "SpecAna.configSpecAnaPow(chan_bw, 'CLR', 'DBM')\n",
    "current_power = start_power\n",
    "while current_power <= stop_power:\n",
    "    SigGen.setSigGenPower(current_power) \n",
    "    sa_band_power = SpecAna.getSpecAnaPower() # for setting window , we can change a window by parsing a differnty cbw\n",
    "    print(f'Spectrum Analyser Band Power: {sa_band_power} dBm')\n",
    "    input_power.append(current_power)  \n",
    "    sa_power_level.append(sa_band_power)   #sa_power_level\n",
    "    current_power += step_power\n"
   ]
  },
  {
   "cell_type": "code",
   "execution_count": 5,
   "id": "e9eaa3ea",
   "metadata": {},
   "outputs": [
    {
     "data": {
      "image/png": "[encoded data removed]",
      "text/plain": [
       "<Figure size 720x720 with 1 Axes>"
      ]
     },
     "metadata": {
      "needs_background": "light"
     },
     "output_type": "display_data"
    }
   ],
   "source": [
    "# Plot the results\n",
    "plotTrace(input_power, sa_power_level, 'Power Input (dBm)', 'Channel Power (dBm)', f'Channel Power Measurements - RBW = {RBW/1e6} MHz', f'Channel BW: {chan_bw/1e6} MHz')"
   ]
  },
  {
   "cell_type": "code",
   "execution_count": null,
   "id": "3625990f",
   "metadata": {},
   "outputs": [],
   "source": [
    "#Trying different channel sizes\n",
    "start_power = -70\n",
    "stop_power = -40\n",
    "step_power = 5\n",
    "chan_bw = [1e6, 10e6, 30e6, 100e6, 300e6]\n",
    "\n",
    "output_data = []\n",
    "for bw in chan_bw:\n",
    "    input_power = []  \n",
    "    sa_power_level = []\n",
    "    SpecAna.configSpecAnaPow(bw, 'CLR', 'DBM')\n",
    "    print(f'Channel Bandwidth: {bw/1e6} MHz')\n",
    "    current_power = start_power\n",
    "    while current_power <= stop_power:\n",
    "        SigGen.setSigGenPower(current_power)\n",
    "        sa_band_power = SpecAna.getSpecAnaPower() # for setting window , we can change a window by parsing a differnty cbw\n",
    "        print(f'Spectrum Analyser Band Power: {sa_band_power} dBm')\n",
    "        input_power.append(current_power)\n",
    "        sa_power_level.append(float(sa_band_power))   #sa_power_level\n",
    "        current_power += step_power\n",
    "    output_data.append([bw, sa_power_level])\n",
    "    \n"
   ]
  },
  {
   "cell_type": "code",
   "execution_count": null,
   "id": "d78765b6",
   "metadata": {},
   "outputs": [],
   "source": [
    "plt.figure(figsize=(10,10))\n",
    "\n",
    "val = 0\n",
    "plt.plot(input_power, output_data[val][1], 'r', label = f'Channel BW: {output_data[val][0]/1e6} MHz')\n",
    "plt.plot(input_power, output_data[val][1], 'rx')\n",
    "\n",
    "val = 1\n",
    "plt.plot(input_power, output_data[val][1], 'b', label = f'Channel BW: {output_data[val][0]/1e6} MHz')\n",
    "plt.plot(input_power, output_data[val][1], 'bx')\n",
    "\n",
    "val = 2\n",
    "plt.plot(input_power, output_data[val][1], 'g', label = f'Channel BW: {output_data[val][0]/1e6} MHz')\n",
    "plt.plot(input_power, output_data[val][1], 'gx')\n",
    "\n",
    "val = 3\n",
    "plt.plot(input_power, output_data[val][1], 'k', label = f'Channel BW: {output_data[val][0]/1e6} MHz')\n",
    "plt.plot(input_power, output_data[val][1], 'kx')\n",
    "\n",
    "#val = 4\n",
    "#plt.plot(input_power, output_data[val][1], 'm', label = f'Channel BW: {output_data[val][0]/1e6} MHz')\n",
    "#plt.plot(input_power, output_data[val][1], 'mx')\n",
    "\n",
    "#val = 5\n",
    "#plt.plot(input_power, output_data[val][1], 'c', label = f'Channel BW: {output_data[val][0]/1e6} MHz')\n",
    "#plt.plot(input_power, output_data[val][1], 'cx')\n",
    "\n",
    "plt.legend()\n",
    "plt.xlabel('Power Input (dBm)', fontsize = 16)\n",
    "plt.ylabel('Channel Power (dBm)', fontsize = 16)\n",
    "plt.title(f'Channel Power Measurements - RBW = {RBW/1e6} MHz', fontsize = 20)\n",
    "plt.grid()\n",
    "plt.show()\n"
   ]
  },
  {
   "cell_type": "code",
   "execution_count": null,
   "id": "f3e272f4",
   "metadata": {},
   "outputs": [],
   "source": []
  }
 ],
 "metadata": {
  "kernelspec": {
   "display_name": "Python 3 (ipykernel)",
   "language": "python",
   "name": "python3"
  },
  "language_info": {
   "codemirror_mode": {
    "name": "ipython",
    "version": 3
   },
   "file_extension": ".py",
   "mimetype": "text/x-python",
   "name": "python",
   "nbconvert_exporter": "python",
   "pygments_lexer": "ipython3",
   "version": "3.9.12"
  }
 },
 "nbformat": 4,
 "nbformat_minor": 5
}
