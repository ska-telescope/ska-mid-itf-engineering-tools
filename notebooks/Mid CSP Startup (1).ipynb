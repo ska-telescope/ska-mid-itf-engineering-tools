{
 "cells": [
  {
   "cell_type": "markdown",
   "id": "bfe7397b",
   "metadata": {},
   "source": [
    "# Basic CSP Startup Script\n",
    "\n",
    "Before starting the notebook, please run the job `deploy-sut-integration` of the `integration` stage in the latest gitlab pipeline: https://gitlab.com/ska-telescope/ska-mid-itf/-/pipelines?page=1&scope=all&ref=main. \n",
    "\n",
    "<div class=\"alert alert-block alert-danger\">\n",
    "<b>WARNING</b>The CBF configuration scripts' output is extremely verbose and will cause the CI job outputs to be too large to download in a single CI job. In future this might be improved.</div>"
   ]
  },
  {
   "cell_type": "code",
   "execution_count": 7,
   "id": "8b17ab52",
   "metadata": {
    "tags": []
   },
   "outputs": [],
   "source": [
    "import os\n",
    "import datetime, json\n",
    "from tango import DeviceProxy, Database\n",
    "\n",
    "# Take the namespace name from the deployment job\n",
    "KUBE_NAMESPACE = \"ci-ska-mid-itf-at-1702-add-csplmc-tests\"\n",
    "# KUBE_NAMESPACE = \"integration\"\n",
    "CLUSTER_DOMAIN = \"miditf.internal.skao.int\"\n",
    "# set the name of the databaseds service\n",
    "DATABASEDS_NAME = \"tango-databaseds\"\n",
    "\n",
    "# finally set the TANGO_HOST\n",
    "os.environ[\n",
    "    \"TANGO_HOST\"\n",
    "] = f\"{DATABASEDS_NAME}.{KUBE_NAMESPACE}.svc.{CLUSTER_DOMAIN}:10000\"\n",
    "TIMEOUT=60"
   ]
  },
  {
   "cell_type": "markdown",
   "id": "3ac7e3e9",
   "metadata": {},
   "source": [
    "List all devices available:"
   ]
  },
  {
   "cell_type": "code",
   "execution_count": null,
   "id": "fe55883a-6887-43dd-9498-5333a51799e2",
   "metadata": {
    "tags": []
   },
   "outputs": [],
   "source": [
    "database = Database()\n",
    "instance_list = database.get_device_exported(\"*\")\n",
    "for instance in instance_list.value_string:\n",
    "    dev = DeviceProxy(instance)\n",
    "    print(instance)\n",
    "    print(\"*****\")\n",
    "    print(dev.info())"
   ]
  },
  {
   "cell_type": "markdown",
   "id": "d02d35af-719f-4860-89b1-730e238d23c5",
   "metadata": {
    "tags": []
   },
   "source": [
    "## Setup Device connection and Timeouts\n",
    "Set up DeviceProxy, check AdminMode and if not 0, set to 0 (ONLINE)"
   ]
  },
  {
   "cell_type": "code",
   "execution_count": 23,
   "id": "05d91830-fbc9-4a5c-a0d2-0066a50302a1",
   "metadata": {
    "tags": []
   },
   "outputs": [],
   "source": [
    "CSP = DeviceProxy(\"mid-csp/control/0\")"
   ]
  },
  {
   "cell_type": "code",
   "execution_count": 24,
   "id": "4804afe2-51b1-429d-aca0-c6e1a2182224",
   "metadata": {
    "tags": []
   },
   "outputs": [
    {
     "data": {
      "text/plain": [
       "<adminMode.ONLINE: 0>"
      ]
     },
     "execution_count": 24,
     "metadata": {},
     "output_type": "execute_result"
    }
   ],
   "source": [
    "CSP.adminmode # This is likely currently OFFLINE"
   ]
  },
  {
   "cell_type": "code",
   "execution_count": 25,
   "id": "75279df9-1438-471c-a7f2-fcb447d1fdaf",
   "metadata": {
    "tags": []
   },
   "outputs": [
    {
     "data": {
      "text/plain": [
       "tango._tango.DevState.ON"
      ]
     },
     "execution_count": 25,
     "metadata": {},
     "output_type": "execute_result"
    }
   ],
   "source": [
    "CSP.State() # This should now be DISABLE"
   ]
  },
  {
   "cell_type": "markdown",
   "id": "ad78163e-cd23-4542-9cab-21f9d3569566",
   "metadata": {},
   "source": [
    "Set Adminmode to ONLINE and check state"
   ]
  },
  {
   "cell_type": "code",
   "execution_count": 26,
   "id": "4e8b9814-c789-491c-8baa-b21787bb1561",
   "metadata": {
    "tags": []
   },
   "outputs": [
    {
     "data": {
      "text/plain": [
       "<adminMode.ONLINE: 0>"
      ]
     },
     "execution_count": 26,
     "metadata": {},
     "output_type": "execute_result"
    }
   ],
   "source": [
    "CSP.adminmode=0\n",
    "CSP.adminmode"
   ]
  },
  {
   "cell_type": "code",
   "execution_count": 27,
   "id": "c81b3b92-6d9d-42e9-b20d-73caafbb209a",
   "metadata": {
    "tags": []
   },
   "outputs": [
    {
     "data": {
      "text/plain": [
       "tango._tango.DevState.ON"
      ]
     },
     "execution_count": 27,
     "metadata": {},
     "output_type": "execute_result"
    }
   ],
   "source": [
    "CSP.State() # This should now be OFF"
   ]
  },
  {
   "cell_type": "markdown",
   "id": "deaa3389-e66d-4793-9dc1-61c02b9253fa",
   "metadata": {},
   "source": [
    "Check CBF SimulationMode (this should be FALSE for real hardware control)"
   ]
  },
  {
   "cell_type": "code",
   "execution_count": 28,
   "id": "3e3e34cf-68ad-426b-87e0-a502d09078c9",
   "metadata": {
    "tags": []
   },
   "outputs": [
    {
     "data": {
      "text/plain": [
       "False"
      ]
     },
     "execution_count": 28,
     "metadata": {},
     "output_type": "execute_result"
    }
   ],
   "source": [
    "CSP.cbfSimulationMode # Should be True if hardware is not currently under CSP.LMC control"
   ]
  },
  {
   "cell_type": "code",
   "execution_count": 29,
   "id": "4ef43614-994e-4193-b751-905b5b716124",
   "metadata": {
    "tags": []
   },
   "outputs": [
    {
     "data": {
      "text/plain": [
       "False"
      ]
     },
     "execution_count": 29,
     "metadata": {},
     "output_type": "execute_result"
    }
   ],
   "source": [
    "CSP.cbfSimulationMode=False\n",
    "CSP.cbfSimulationMode"
   ]
  },
  {
   "cell_type": "markdown",
   "id": "e2a4eb6a-c082-4e9a-9acc-82771591443f",
   "metadata": {},
   "source": [
    "Set Timeout to 60 seconds as the ON command is a long-running command and check value"
   ]
  },
  {
   "cell_type": "code",
   "execution_count": 30,
   "id": "705a3be2-270c-426c-bf35-1c5459457377",
   "metadata": {
    "tags": []
   },
   "outputs": [
    {
     "data": {
      "text/plain": [
       "60"
      ]
     },
     "execution_count": 30,
     "metadata": {},
     "output_type": "execute_result"
    }
   ],
   "source": [
    "CSP.commandTimeout=TIMEOUT\n",
    "CSP.commandTimeout"
   ]
  },
  {
   "cell_type": "markdown",
   "id": "3218da85",
   "metadata": {},
   "source": [
    "## Check all relevant device states\n",
    "Now check if all the devices are switched on as they should be.\n",
    "Use the [Taranta Dashboard](https://k8s.miditf.internal.skao.int/integration/taranta/dashboard?id=6543b36cf6d53e0019b95cf1&mode=run) to monitor top-level devices!"
   ]
  },
  {
   "cell_type": "markdown",
   "id": "e8cbbb25-801d-4ef5-b965-bcd3e06946e5",
   "metadata": {},
   "source": [
    "## Send command sequence\n",
    "### Send the ON command. \n",
    "NOTE: an empty list sends the ON command to ALL the subsystems, specific subsystems are turned on if specified in a list of subsystem FQDNs"
   ]
  },
  {
   "cell_type": "code",
   "execution_count": null,
   "id": "b4ea8f84-c50c-4abc-b6ac-8850ff53794f",
   "metadata": {
    "tags": []
   },
   "outputs": [],
   "source": [
    "CSP.on([])"
   ]
  },
  {
   "cell_type": "code",
   "execution_count": null,
   "id": "160a7ca3-144f-4415-b3bc-fbba624958b6",
   "metadata": {
    "tags": []
   },
   "outputs": [],
   "source": [
    "CSP.State() # this should now be ON"
   ]
  },
  {
   "cell_type": "markdown",
   "id": "801db827-28b8-4cfd-a5cd-6d3206f7b81a",
   "metadata": {},
   "source": [
    "### Control the CSP Subarray\n",
    "Set up a Tango DeviceProxy to the CSP Subarray device\n"
   ]
  },
  {
   "cell_type": "code",
   "execution_count": 4,
   "id": "634eb864-475f-4568-b024-eff52fc9c3ae",
   "metadata": {
    "tags": []
   },
   "outputs": [],
   "source": [
    "CSPSubarray=DeviceProxy('mid-csp/subarray/01')"
   ]
  },
  {
   "cell_type": "markdown",
   "id": "7dbe0330-75fe-453f-bdf3-8e770e3b9a15",
   "metadata": {},
   "source": [
    "### Send AssignResource"
   ]
  },
  {
   "cell_type": "code",
   "execution_count": 31,
   "id": "892e0a48-c0f3-47bd-83c1-f3e1f9280551",
   "metadata": {
    "tags": []
   },
   "outputs": [
    {
     "ename": "DevFailed",
     "evalue": "DevFailed[\nDevError[\n    desc = ska_tango_base.faults.StateModelError: AssignResources command not permitted in observation state FAULT\n           \n  origin = Traceback (most recent call last):\n  File \"/usr/local/lib/python3.10/dist-packages/tango/device_server.py\", line 85, in wrapper\n    return get_worker().execute(fn, *args, **kwargs)\n  File \"/usr/local/lib/python3.10/dist-packages/tango/green.py\", line 101, in execute\n    return fn(*args, **kwargs)\n  File \"/usr/local/lib/python3.10/dist-packages/ska_tango_base/subarray/subarray_device.py\", line 574, in is_AssignResources_allowed\n    raise StateModelError(\nska_tango_base.faults.StateModelError: AssignResources command not permitted in observation state FAULT\n\n  reason = PyDs_PythonError\nseverity = ERR]\n\nDevError[\n    desc = Failed to execute command_inout on device mid-csp/subarray/01, command AssignResources\n  origin = virtual Tango::DeviceData Tango::Connection::command_inout(const string&, const Tango::DeviceData&) at (/src/cppTango/cppapi/client/devapi_base.cpp:1338)\n  reason = API_CommandFailed\nseverity = ERR]\n]",
     "output_type": "error",
     "traceback": [
      "\u001b[0;31m---------------------------------------------------------------------------\u001b[0m",
      "\u001b[0;31mDevFailed\u001b[0m                                 Traceback (most recent call last)",
      "Cell \u001b[0;32mIn[31], line 8\u001b[0m\n\u001b[1;32m      1\u001b[0m resources\u001b[38;5;241m=\u001b[39mjson\u001b[38;5;241m.\u001b[39mdumps({\n\u001b[1;32m      2\u001b[0m     \u001b[38;5;124m\"\u001b[39m\u001b[38;5;124msubarray_id\u001b[39m\u001b[38;5;124m\"\u001b[39m: \u001b[38;5;241m1\u001b[39m,\n\u001b[1;32m      3\u001b[0m     \u001b[38;5;124m\"\u001b[39m\u001b[38;5;124mdish\u001b[39m\u001b[38;5;124m\"\u001b[39m:{\n\u001b[1;32m      4\u001b[0m         \u001b[38;5;124m\"\u001b[39m\u001b[38;5;124mreceptor_ids\u001b[39m\u001b[38;5;124m\"\u001b[39m:[\u001b[38;5;124m\"\u001b[39m\u001b[38;5;124mSKA001\u001b[39m\u001b[38;5;124m\"\u001b[39m]\n\u001b[1;32m      5\u001b[0m     }\n\u001b[1;32m      6\u001b[0m })\n\u001b[0;32m----> 8\u001b[0m \u001b[43mCSPSubarray\u001b[49m\u001b[38;5;241;43m.\u001b[39;49m\u001b[43mAssignResources\u001b[49m\u001b[43m(\u001b[49m\u001b[43mresources\u001b[49m\u001b[43m)\u001b[49m\n",
      "File \u001b[0;32m/usr/local/lib/python3.10/dist-packages/tango/device_proxy.py:336\u001b[0m, in \u001b[0;36m__get_command_func.<locals>.f\u001b[0;34m(*args, **kwds)\u001b[0m\n\u001b[1;32m    335\u001b[0m \u001b[38;5;28;01mdef\u001b[39;00m \u001b[38;5;21mf\u001b[39m(\u001b[38;5;241m*\u001b[39margs, \u001b[38;5;241m*\u001b[39m\u001b[38;5;241m*\u001b[39mkwds):\n\u001b[0;32m--> 336\u001b[0m     \u001b[38;5;28;01mreturn\u001b[39;00m \u001b[43mdp\u001b[49m\u001b[38;5;241;43m.\u001b[39;49m\u001b[43mcommand_inout\u001b[49m\u001b[43m(\u001b[49m\u001b[43mname\u001b[49m\u001b[43m,\u001b[49m\u001b[43m \u001b[49m\u001b[38;5;241;43m*\u001b[39;49m\u001b[43margs\u001b[49m\u001b[43m,\u001b[49m\u001b[43m \u001b[49m\u001b[38;5;241;43m*\u001b[39;49m\u001b[38;5;241;43m*\u001b[39;49m\u001b[43mkwds\u001b[49m\u001b[43m)\u001b[49m\n",
      "File \u001b[0;32m/usr/local/lib/python3.10/dist-packages/tango/green.py:204\u001b[0m, in \u001b[0;36mgreen.<locals>.decorator.<locals>.greener\u001b[0;34m(obj, *args, **kwargs)\u001b[0m\n\u001b[1;32m    202\u001b[0m green_mode \u001b[38;5;241m=\u001b[39m access(\u001b[38;5;124m\"\u001b[39m\u001b[38;5;124mgreen_mode\u001b[39m\u001b[38;5;124m\"\u001b[39m, \u001b[38;5;28;01mNone\u001b[39;00m)\n\u001b[1;32m    203\u001b[0m executor \u001b[38;5;241m=\u001b[39m get_object_executor(obj, green_mode)\n\u001b[0;32m--> 204\u001b[0m \u001b[38;5;28;01mreturn\u001b[39;00m \u001b[43mexecutor\u001b[49m\u001b[38;5;241;43m.\u001b[39;49m\u001b[43mrun\u001b[49m\u001b[43m(\u001b[49m\u001b[43mfn\u001b[49m\u001b[43m,\u001b[49m\u001b[43m \u001b[49m\u001b[43margs\u001b[49m\u001b[43m,\u001b[49m\u001b[43m \u001b[49m\u001b[43mkwargs\u001b[49m\u001b[43m,\u001b[49m\u001b[43m \u001b[49m\u001b[43mwait\u001b[49m\u001b[38;5;241;43m=\u001b[39;49m\u001b[43mwait\u001b[49m\u001b[43m,\u001b[49m\u001b[43m \u001b[49m\u001b[43mtimeout\u001b[49m\u001b[38;5;241;43m=\u001b[39;49m\u001b[43mtimeout\u001b[49m\u001b[43m)\u001b[49m\n",
      "File \u001b[0;32m/usr/local/lib/python3.10/dist-packages/tango/green.py:112\u001b[0m, in \u001b[0;36mAbstractExecutor.run\u001b[0;34m(self, fn, args, kwargs, wait, timeout)\u001b[0m\n\u001b[1;32m    110\u001b[0m \u001b[38;5;66;03m# Synchronous (no delegation)\u001b[39;00m\n\u001b[1;32m    111\u001b[0m \u001b[38;5;28;01mif\u001b[39;00m \u001b[38;5;129;01mnot\u001b[39;00m \u001b[38;5;28mself\u001b[39m\u001b[38;5;241m.\u001b[39masynchronous \u001b[38;5;129;01mor\u001b[39;00m \u001b[38;5;129;01mnot\u001b[39;00m \u001b[38;5;28mself\u001b[39m\u001b[38;5;241m.\u001b[39min_executor_context():\n\u001b[0;32m--> 112\u001b[0m     \u001b[38;5;28;01mreturn\u001b[39;00m \u001b[43mfn\u001b[49m\u001b[43m(\u001b[49m\u001b[38;5;241;43m*\u001b[39;49m\u001b[43margs\u001b[49m\u001b[43m,\u001b[49m\u001b[43m \u001b[49m\u001b[38;5;241;43m*\u001b[39;49m\u001b[38;5;241;43m*\u001b[39;49m\u001b[43mkwargs\u001b[49m\u001b[43m)\u001b[49m\n\u001b[1;32m    113\u001b[0m \u001b[38;5;66;03m# Asynchronous delegation\u001b[39;00m\n\u001b[1;32m    114\u001b[0m accessor \u001b[38;5;241m=\u001b[39m \u001b[38;5;28mself\u001b[39m\u001b[38;5;241m.\u001b[39mdelegate(fn, \u001b[38;5;241m*\u001b[39margs, \u001b[38;5;241m*\u001b[39m\u001b[38;5;241m*\u001b[39mkwargs)\n",
      "File \u001b[0;32m/usr/local/lib/python3.10/dist-packages/tango/connection.py:116\u001b[0m, in \u001b[0;36m__Connection__command_inout\u001b[0;34m(self, name, *args, **kwds)\u001b[0m\n\u001b[1;32m     84\u001b[0m \u001b[38;5;28;01mdef\u001b[39;00m \u001b[38;5;21m__Connection__command_inout\u001b[39m(\u001b[38;5;28mself\u001b[39m, name, \u001b[38;5;241m*\u001b[39margs, \u001b[38;5;241m*\u001b[39m\u001b[38;5;241m*\u001b[39mkwds):\n\u001b[1;32m     85\u001b[0m \u001b[38;5;250m    \u001b[39m\u001b[38;5;124;03m\"\"\"\u001b[39;00m\n\u001b[1;32m     86\u001b[0m \u001b[38;5;124;03m    command_inout( self, cmd_name, cmd_param=None, green_mode=None, wait=True, timeout=None) -> any\u001b[39;00m\n\u001b[1;32m     87\u001b[0m \n\u001b[0;32m   (...)\u001b[0m\n\u001b[1;32m    114\u001b[0m \u001b[38;5;124;03m        *timeout* parameter.\u001b[39;00m\n\u001b[1;32m    115\u001b[0m \u001b[38;5;124;03m    \"\"\"\u001b[39;00m\n\u001b[0;32m--> 116\u001b[0m     r \u001b[38;5;241m=\u001b[39m \u001b[43mConnection\u001b[49m\u001b[38;5;241;43m.\u001b[39;49m\u001b[43mcommand_inout_raw\u001b[49m\u001b[43m(\u001b[49m\u001b[38;5;28;43mself\u001b[39;49m\u001b[43m,\u001b[49m\u001b[43m \u001b[49m\u001b[43mname\u001b[49m\u001b[43m,\u001b[49m\u001b[43m \u001b[49m\u001b[38;5;241;43m*\u001b[39;49m\u001b[43margs\u001b[49m\u001b[43m,\u001b[49m\u001b[43m \u001b[49m\u001b[38;5;241;43m*\u001b[39;49m\u001b[38;5;241;43m*\u001b[39;49m\u001b[43mkwds\u001b[49m\u001b[43m)\u001b[49m\n\u001b[1;32m    117\u001b[0m     \u001b[38;5;28;01mif\u001b[39;00m \u001b[38;5;28misinstance\u001b[39m(r, DeviceData):\n\u001b[1;32m    118\u001b[0m         \u001b[38;5;28;01mtry\u001b[39;00m:\n",
      "File \u001b[0;32m/usr/local/lib/python3.10/dist-packages/tango/connection.py:145\u001b[0m, in \u001b[0;36m__Connection__command_inout_raw\u001b[0;34m(self, cmd_name, cmd_param)\u001b[0m\n\u001b[1;32m    130\u001b[0m \u001b[38;5;250m\u001b[39m\u001b[38;5;124;03m\"\"\"\u001b[39;00m\n\u001b[1;32m    131\u001b[0m \u001b[38;5;124;03mcommand_inout_raw( self, cmd_name, cmd_param=None) -> DeviceData\u001b[39;00m\n\u001b[1;32m    132\u001b[0m \n\u001b[0;32m   (...)\u001b[0m\n\u001b[1;32m    142\u001b[0m \u001b[38;5;124;03m    Throws     : ConnectionFailed, CommunicationFailed, DeviceUnlocked, DevFailed from device\u001b[39;00m\n\u001b[1;32m    143\u001b[0m \u001b[38;5;124;03m\"\"\"\u001b[39;00m\n\u001b[1;32m    144\u001b[0m param \u001b[38;5;241m=\u001b[39m __get_command_inout_param(\u001b[38;5;28mself\u001b[39m, cmd_name, cmd_param)\n\u001b[0;32m--> 145\u001b[0m \u001b[38;5;28;01mreturn\u001b[39;00m \u001b[38;5;28;43mself\u001b[39;49m\u001b[38;5;241;43m.\u001b[39;49m\u001b[43m__command_inout\u001b[49m\u001b[43m(\u001b[49m\u001b[43mcmd_name\u001b[49m\u001b[43m,\u001b[49m\u001b[43m \u001b[49m\u001b[43mparam\u001b[49m\u001b[43m)\u001b[49m\n",
      "\u001b[0;31mDevFailed\u001b[0m: DevFailed[\nDevError[\n    desc = ska_tango_base.faults.StateModelError: AssignResources command not permitted in observation state FAULT\n           \n  origin = Traceback (most recent call last):\n  File \"/usr/local/lib/python3.10/dist-packages/tango/device_server.py\", line 85, in wrapper\n    return get_worker().execute(fn, *args, **kwargs)\n  File \"/usr/local/lib/python3.10/dist-packages/tango/green.py\", line 101, in execute\n    return fn(*args, **kwargs)\n  File \"/usr/local/lib/python3.10/dist-packages/ska_tango_base/subarray/subarray_device.py\", line 574, in is_AssignResources_allowed\n    raise StateModelError(\nska_tango_base.faults.StateModelError: AssignResources command not permitted in observation state FAULT\n\n  reason = PyDs_PythonError\nseverity = ERR]\n\nDevError[\n    desc = Failed to execute command_inout on device mid-csp/subarray/01, command AssignResources\n  origin = virtual Tango::DeviceData Tango::Connection::command_inout(const string&, const Tango::DeviceData&) at (/src/cppTango/cppapi/client/devapi_base.cpp:1338)\n  reason = API_CommandFailed\nseverity = ERR]\n]"
     ]
    }
   ],
   "source": [
    "resources=json.dumps({\n",
    "    \"subarray_id\": 1,\n",
    "    \"dish\":{\n",
    "        \"receptor_ids\":[\"SKA001\"]\n",
    "    }\n",
    "})\n",
    "\n",
    "CSPSubarray.AssignResources(resources)"
   ]
  },
  {
   "cell_type": "markdown",
   "id": "ef3d3d38-0514-49dd-8170-fb827781298a",
   "metadata": {},
   "source": [
    "### Send ConfigureScan command\n",
    "NOTE: get the IP address of the interface of the SDP Surrogate pod and modify the JSON for the configure scan with it, before you run this command!!!\n",
    "\n",
    "Send this directly to the CBF Subarray device - refer to https://k8s.miditf.internal.skao.int/ci-ska-mid-itf-at-1702-add-csplmc-tests/taranta/dashboard?id=655c5c2d72024f001940aca8 for the correct command (open the button config in Taranta).\n"
   ]
  },
  {
   "cell_type": "markdown",
   "id": "4667e32d-7ce2-4550-ad07-79cda0a01d57",
   "metadata": {},
   "source": [
    "#### Copy this JSON and modify \n",
    "Uncomment the first line after getting it from the kubectl command output and modifying SDP_HOST_IP_ADDRESS"
   ]
  },
  {
   "cell_type": "code",
   "execution_count": 27,
   "id": "d74034bb-126e-4185-b57f-d20dcf06df40",
   "metadata": {
    "tags": []
   },
   "outputs": [],
   "source": [
    "SDP_HOST_IP_ADDRESS=\"10.165.20.30\" # this is the IP address of the receiver interface\n",
    "configuredata={ \"interface\": \"https://schema.skao.int/ska-csp-configure/2.3\", \"subarray\": { \"subarray_name\": \"Single receptor\" }, \"common\": { \"config_id\": \"1 receptor, band 1, 1 FSP, no options\", \"frequency_band\": \"1\", \"subarray_id\": 0 }, \"cbf\": { \"delay_model_subscription_point\": \"ska_mid/tm_leaf_node/csp_subarray_01/delayModel\", \"rfi_flagging_mask\": {}, \"fsp\": [ { \"fsp_id\": 1, \"function_mode\": \"CORR\", \"receptors\": [\"SKA001\"], \"frequency_slice_id\": 1, \"zoom_factor\": 1, \"zoom_window_tuning\": 450000, \"integration_factor\": 10, \"channel_offset\": 14880, \"output_link_map\": [ [0, 4], [744, 8], [1488, 12], [2232, 16], [2976, 20], [3720, 24], [4464, 28], [5206, 32], [5952, 36], [6696, 40], [7440, 44], [8184, 48], [8928, 52], [9672, 56], [10416, 60], [11160, 64], [11904, 68], [12648, 72], [13392, 76], [14136, 80] ], \"output_host\": [[0, \"10.165.20.31\"]], \"output_port\": [[0, 14000, 1]] } ] } }\n",
    "configuredata[\"cbf\"][\"fsp\"][0][\"output_host\"] = SDP_HOST_IP_ADDRESS"
   ]
  },
  {
   "cell_type": "code",
   "execution_count": 29,
   "id": "f6f99439-7cbd-48f0-ac23-452f7585f812",
   "metadata": {
    "tags": []
   },
   "outputs": [],
   "source": [
    "CBFSubarray = DeviceProxy('mid_csp_cbf/sub_elt/subarray_01')"
   ]
  },
  {
   "cell_type": "code",
   "execution_count": 30,
   "id": "87781d17-fc49-44da-9f7a-ea148d444561",
   "metadata": {
    "tags": []
   },
   "outputs": [
    {
     "ename": "DevFailed",
     "evalue": "DevFailed[\nDevError[\n    desc = Receptor SKA001 does not belong to subarray 1.\n  origin = ConfigureScan execution\n  reason = Command failed\nseverity = ERR]\n\nDevError[\n    desc = Failed to execute command_inout on device mid_csp_cbf/sub_elt/subarray_01, command ConfigureScan\n  origin = virtual Tango::DeviceData Tango::Connection::command_inout(const string&, const Tango::DeviceData&) at (/src/cppTango/cppapi/client/devapi_base.cpp:1338)\n  reason = API_CommandFailed\nseverity = ERR]\n]",
     "output_type": "error",
     "traceback": [
      "\u001b[0;31m---------------------------------------------------------------------------\u001b[0m",
      "\u001b[0;31mDevFailed\u001b[0m                                 Traceback (most recent call last)",
      "Cell \u001b[0;32mIn[30], line 1\u001b[0m\n\u001b[0;32m----> 1\u001b[0m \u001b[43mCBFSubarray\u001b[49m\u001b[38;5;241;43m.\u001b[39;49m\u001b[43mConfigureScan\u001b[49m\u001b[43m(\u001b[49m\u001b[43mjson\u001b[49m\u001b[38;5;241;43m.\u001b[39;49m\u001b[43mdumps\u001b[49m\u001b[43m(\u001b[49m\u001b[43mconfiguredata\u001b[49m\u001b[43m)\u001b[49m\u001b[43m)\u001b[49m\n",
      "File \u001b[0;32m/usr/local/lib/python3.10/dist-packages/tango/device_proxy.py:336\u001b[0m, in \u001b[0;36m__get_command_func.<locals>.f\u001b[0;34m(*args, **kwds)\u001b[0m\n\u001b[1;32m    335\u001b[0m \u001b[38;5;28;01mdef\u001b[39;00m \u001b[38;5;21mf\u001b[39m(\u001b[38;5;241m*\u001b[39margs, \u001b[38;5;241m*\u001b[39m\u001b[38;5;241m*\u001b[39mkwds):\n\u001b[0;32m--> 336\u001b[0m     \u001b[38;5;28;01mreturn\u001b[39;00m \u001b[43mdp\u001b[49m\u001b[38;5;241;43m.\u001b[39;49m\u001b[43mcommand_inout\u001b[49m\u001b[43m(\u001b[49m\u001b[43mname\u001b[49m\u001b[43m,\u001b[49m\u001b[43m \u001b[49m\u001b[38;5;241;43m*\u001b[39;49m\u001b[43margs\u001b[49m\u001b[43m,\u001b[49m\u001b[43m \u001b[49m\u001b[38;5;241;43m*\u001b[39;49m\u001b[38;5;241;43m*\u001b[39;49m\u001b[43mkwds\u001b[49m\u001b[43m)\u001b[49m\n",
      "File \u001b[0;32m/usr/local/lib/python3.10/dist-packages/tango/green.py:204\u001b[0m, in \u001b[0;36mgreen.<locals>.decorator.<locals>.greener\u001b[0;34m(obj, *args, **kwargs)\u001b[0m\n\u001b[1;32m    202\u001b[0m green_mode \u001b[38;5;241m=\u001b[39m access(\u001b[38;5;124m\"\u001b[39m\u001b[38;5;124mgreen_mode\u001b[39m\u001b[38;5;124m\"\u001b[39m, \u001b[38;5;28;01mNone\u001b[39;00m)\n\u001b[1;32m    203\u001b[0m executor \u001b[38;5;241m=\u001b[39m get_object_executor(obj, green_mode)\n\u001b[0;32m--> 204\u001b[0m \u001b[38;5;28;01mreturn\u001b[39;00m \u001b[43mexecutor\u001b[49m\u001b[38;5;241;43m.\u001b[39;49m\u001b[43mrun\u001b[49m\u001b[43m(\u001b[49m\u001b[43mfn\u001b[49m\u001b[43m,\u001b[49m\u001b[43m \u001b[49m\u001b[43margs\u001b[49m\u001b[43m,\u001b[49m\u001b[43m \u001b[49m\u001b[43mkwargs\u001b[49m\u001b[43m,\u001b[49m\u001b[43m \u001b[49m\u001b[43mwait\u001b[49m\u001b[38;5;241;43m=\u001b[39;49m\u001b[43mwait\u001b[49m\u001b[43m,\u001b[49m\u001b[43m \u001b[49m\u001b[43mtimeout\u001b[49m\u001b[38;5;241;43m=\u001b[39;49m\u001b[43mtimeout\u001b[49m\u001b[43m)\u001b[49m\n",
      "File \u001b[0;32m/usr/local/lib/python3.10/dist-packages/tango/green.py:112\u001b[0m, in \u001b[0;36mAbstractExecutor.run\u001b[0;34m(self, fn, args, kwargs, wait, timeout)\u001b[0m\n\u001b[1;32m    110\u001b[0m \u001b[38;5;66;03m# Synchronous (no delegation)\u001b[39;00m\n\u001b[1;32m    111\u001b[0m \u001b[38;5;28;01mif\u001b[39;00m \u001b[38;5;129;01mnot\u001b[39;00m \u001b[38;5;28mself\u001b[39m\u001b[38;5;241m.\u001b[39masynchronous \u001b[38;5;129;01mor\u001b[39;00m \u001b[38;5;129;01mnot\u001b[39;00m \u001b[38;5;28mself\u001b[39m\u001b[38;5;241m.\u001b[39min_executor_context():\n\u001b[0;32m--> 112\u001b[0m     \u001b[38;5;28;01mreturn\u001b[39;00m \u001b[43mfn\u001b[49m\u001b[43m(\u001b[49m\u001b[38;5;241;43m*\u001b[39;49m\u001b[43margs\u001b[49m\u001b[43m,\u001b[49m\u001b[43m \u001b[49m\u001b[38;5;241;43m*\u001b[39;49m\u001b[38;5;241;43m*\u001b[39;49m\u001b[43mkwargs\u001b[49m\u001b[43m)\u001b[49m\n\u001b[1;32m    113\u001b[0m \u001b[38;5;66;03m# Asynchronous delegation\u001b[39;00m\n\u001b[1;32m    114\u001b[0m accessor \u001b[38;5;241m=\u001b[39m \u001b[38;5;28mself\u001b[39m\u001b[38;5;241m.\u001b[39mdelegate(fn, \u001b[38;5;241m*\u001b[39margs, \u001b[38;5;241m*\u001b[39m\u001b[38;5;241m*\u001b[39mkwargs)\n",
      "File \u001b[0;32m/usr/local/lib/python3.10/dist-packages/tango/connection.py:116\u001b[0m, in \u001b[0;36m__Connection__command_inout\u001b[0;34m(self, name, *args, **kwds)\u001b[0m\n\u001b[1;32m     84\u001b[0m \u001b[38;5;28;01mdef\u001b[39;00m \u001b[38;5;21m__Connection__command_inout\u001b[39m(\u001b[38;5;28mself\u001b[39m, name, \u001b[38;5;241m*\u001b[39margs, \u001b[38;5;241m*\u001b[39m\u001b[38;5;241m*\u001b[39mkwds):\n\u001b[1;32m     85\u001b[0m \u001b[38;5;250m    \u001b[39m\u001b[38;5;124;03m\"\"\"\u001b[39;00m\n\u001b[1;32m     86\u001b[0m \u001b[38;5;124;03m    command_inout( self, cmd_name, cmd_param=None, green_mode=None, wait=True, timeout=None) -> any\u001b[39;00m\n\u001b[1;32m     87\u001b[0m \n\u001b[0;32m   (...)\u001b[0m\n\u001b[1;32m    114\u001b[0m \u001b[38;5;124;03m        *timeout* parameter.\u001b[39;00m\n\u001b[1;32m    115\u001b[0m \u001b[38;5;124;03m    \"\"\"\u001b[39;00m\n\u001b[0;32m--> 116\u001b[0m     r \u001b[38;5;241m=\u001b[39m \u001b[43mConnection\u001b[49m\u001b[38;5;241;43m.\u001b[39;49m\u001b[43mcommand_inout_raw\u001b[49m\u001b[43m(\u001b[49m\u001b[38;5;28;43mself\u001b[39;49m\u001b[43m,\u001b[49m\u001b[43m \u001b[49m\u001b[43mname\u001b[49m\u001b[43m,\u001b[49m\u001b[43m \u001b[49m\u001b[38;5;241;43m*\u001b[39;49m\u001b[43margs\u001b[49m\u001b[43m,\u001b[49m\u001b[43m \u001b[49m\u001b[38;5;241;43m*\u001b[39;49m\u001b[38;5;241;43m*\u001b[39;49m\u001b[43mkwds\u001b[49m\u001b[43m)\u001b[49m\n\u001b[1;32m    117\u001b[0m     \u001b[38;5;28;01mif\u001b[39;00m \u001b[38;5;28misinstance\u001b[39m(r, DeviceData):\n\u001b[1;32m    118\u001b[0m         \u001b[38;5;28;01mtry\u001b[39;00m:\n",
      "File \u001b[0;32m/usr/local/lib/python3.10/dist-packages/tango/connection.py:145\u001b[0m, in \u001b[0;36m__Connection__command_inout_raw\u001b[0;34m(self, cmd_name, cmd_param)\u001b[0m\n\u001b[1;32m    130\u001b[0m \u001b[38;5;250m\u001b[39m\u001b[38;5;124;03m\"\"\"\u001b[39;00m\n\u001b[1;32m    131\u001b[0m \u001b[38;5;124;03mcommand_inout_raw( self, cmd_name, cmd_param=None) -> DeviceData\u001b[39;00m\n\u001b[1;32m    132\u001b[0m \n\u001b[0;32m   (...)\u001b[0m\n\u001b[1;32m    142\u001b[0m \u001b[38;5;124;03m    Throws     : ConnectionFailed, CommunicationFailed, DeviceUnlocked, DevFailed from device\u001b[39;00m\n\u001b[1;32m    143\u001b[0m \u001b[38;5;124;03m\"\"\"\u001b[39;00m\n\u001b[1;32m    144\u001b[0m param \u001b[38;5;241m=\u001b[39m __get_command_inout_param(\u001b[38;5;28mself\u001b[39m, cmd_name, cmd_param)\n\u001b[0;32m--> 145\u001b[0m \u001b[38;5;28;01mreturn\u001b[39;00m \u001b[38;5;28;43mself\u001b[39;49m\u001b[38;5;241;43m.\u001b[39;49m\u001b[43m__command_inout\u001b[49m\u001b[43m(\u001b[49m\u001b[43mcmd_name\u001b[49m\u001b[43m,\u001b[49m\u001b[43m \u001b[49m\u001b[43mparam\u001b[49m\u001b[43m)\u001b[49m\n",
      "\u001b[0;31mDevFailed\u001b[0m: DevFailed[\nDevError[\n    desc = Receptor SKA001 does not belong to subarray 1.\n  origin = ConfigureScan execution\n  reason = Command failed\nseverity = ERR]\n\nDevError[\n    desc = Failed to execute command_inout on device mid_csp_cbf/sub_elt/subarray_01, command ConfigureScan\n  origin = virtual Tango::DeviceData Tango::Connection::command_inout(const string&, const Tango::DeviceData&) at (/src/cppTango/cppapi/client/devapi_base.cpp:1338)\n  reason = API_CommandFailed\nseverity = ERR]\n]"
     ]
    }
   ],
   "source": [
    "CBFSubarray.ConfigureScan(json.dumps(configuredata))"
   ]
  },
  {
   "cell_type": "markdown",
   "id": "8c09b34d-357a-46be-a29c-96cb0004eda4",
   "metadata": {},
   "source": [
    "## Setup BITE data stream\n",
    "Copy the output of the next print line and paste into your shell."
   ]
  },
  {
   "cell_type": "code",
   "execution_count": 34,
   "id": "d436c29c-8cb9-40c7-8d4f-d5860da57da7",
   "metadata": {
    "tags": []
   },
   "outputs": [
    {
     "name": "stdout",
     "output_type": "stream",
     "text": [
      "kubectl -n ci-ska-mid-itf-at-1702-add-csplmc-tests exec ec-bite -- python3 midcbf_bite.py --talon-bite-lstv-replay --boards=1\n"
     ]
    }
   ],
   "source": [
    "print(f\"kubectl -n {KUBE_NAMESPACE} exec ec-bite -- python3 midcbf_bite.py --talon-bite-lstv-replay --boards=1\")"
   ]
  },
  {
   "cell_type": "markdown",
   "id": "f0ac1938-83cf-4d21-93e1-a5df11a9c5ec",
   "metadata": {},
   "source": [
    "### Upload the Delaymodel\n"
   ]
  },
  {
   "cell_type": "code",
   "execution_count": 43,
   "id": "963ce848-5a66-4b27-8ce1-a5bd04838fba",
   "metadata": {
    "tags": []
   },
   "outputs": [],
   "source": [
    "# Generate the Delaymodel and check if it was was correctly sent:\n",
    "sub = DeviceProxy(\"ska_mid/tm_leaf_node/csp_subarray_01\")\n",
    "current_time = float(datetime.datetime.utcnow().replace(tzinfo=datetime.timezone.utc).timestamp())\n",
    "dm={\"interface\": \"https://schema.skao.int/ska-csp-delaymodel/2.2\", \"epoch\": current_time, \"validity_period\": 400.0, \"delay_details\": [{\"receptor\": \"SKA001\", \"poly_info\": [{\"polarization\": \"X\", \"coeffs\": [0.0, 0.0, 0.0, 0.0, 0.0, 0.0]}, {\"polarization\": \"Y\", \"coeffs\": [0.0, 0.0, 0.0, 0.0, 0.0, 0.0]}]}]}\n",
    "sub.delayModel=json.dumps(dm)\n",
    "assert sub.delayModel==json.dumps(dm), f\"Expected {dm}, got\\n{sub.delayModel}\""
   ]
  },
  {
   "cell_type": "markdown",
   "id": "3d3324a4-8021-491e-991a-e93ec0f50e47",
   "metadata": {},
   "source": [
    "## Scan\n",
    "By now, we are supposed to look at the output of `tcpdump -i net1` in the SDP Surrogate pod and see data!"
   ]
  },
  {
   "cell_type": "markdown",
   "id": "80de1414-6cd3-4796-a814-372040618a36",
   "metadata": {},
   "source": [
    "## End Scan (CSP Subarray)\n",
    "If this fails because things were in READY, that means you didn't need to run it now - DON'T PANIC!\n",
    "\n",
    "Run this if device is in "
   ]
  },
  {
   "cell_type": "code",
   "execution_count": null,
   "id": "cce18930-73a1-409a-b42d-e7119f6d184f",
   "metadata": {
    "tags": []
   },
   "outputs": [],
   "source": [
    "CSPSubarray.EndScan()"
   ]
  },
  {
   "cell_type": "markdown",
   "id": "42da8d8b-8101-4546-bb8c-cb98486ace17",
   "metadata": {},
   "source": [
    "## Go To Idle (CSP Subarray)\n",
    "CSPSubarray.GoToIdle()"
   ]
  },
  {
   "cell_type": "code",
   "execution_count": 32,
   "id": "3863dae5-a7df-478c-8af6-7eca68f46153",
   "metadata": {
    "tags": []
   },
   "outputs": [
    {
     "data": {
      "text/plain": [
       "<obsState.FAULT: 9>"
      ]
     },
     "execution_count": 32,
     "metadata": {},
     "output_type": "execute_result"
    }
   ],
   "source": [
    "CSPSubarray.obsState"
   ]
  },
  {
   "cell_type": "markdown",
   "id": "d289c397-883f-4d33-ba93-e049f25536fd",
   "metadata": {},
   "source": [
    "## Release Resources (CSP Subarray)\n",
    "### Run either ReleaseAllResources, or ReleaseResources(<samejsonfilefortheothercommand>)"
   ]
  },
  {
   "cell_type": "code",
   "execution_count": 33,
   "id": "f4cacb7b-479f-4cb5-a520-f621f0c40adc",
   "metadata": {
    "tags": []
   },
   "outputs": [
    {
     "ename": "DevFailed",
     "evalue": "DevFailed[\nDevError[\n    desc = ska_tango_base.faults.StateModelError: ReleaseAllResources command not permitted in observation state FAULT\n           \n  origin = Traceback (most recent call last):\n  File \"/usr/local/lib/python3.10/dist-packages/tango/device_server.py\", line 85, in wrapper\n    return get_worker().execute(fn, *args, **kwargs)\n  File \"/usr/local/lib/python3.10/dist-packages/tango/green.py\", line 101, in execute\n    return fn(*args, **kwargs)\n  File \"/usr/local/lib/python3.10/dist-packages/ska_tango_base/subarray/subarray_device.py\", line 661, in is_ReleaseAllResources_allowed\n    raise StateModelError(\nska_tango_base.faults.StateModelError: ReleaseAllResources command not permitted in observation state FAULT\n\n  reason = PyDs_PythonError\nseverity = ERR]\n\nDevError[\n    desc = Failed to execute command_inout on device mid-csp/subarray/01, command ReleaseAllResources\n  origin = virtual Tango::DeviceData Tango::Connection::command_inout(const string&, const Tango::DeviceData&) at (/src/cppTango/cppapi/client/devapi_base.cpp:1338)\n  reason = API_CommandFailed\nseverity = ERR]\n]",
     "output_type": "error",
     "traceback": [
      "\u001b[0;31m---------------------------------------------------------------------------\u001b[0m",
      "\u001b[0;31mDevFailed\u001b[0m                                 Traceback (most recent call last)",
      "Cell \u001b[0;32mIn[33], line 1\u001b[0m\n\u001b[0;32m----> 1\u001b[0m \u001b[43mCSPSubarray\u001b[49m\u001b[38;5;241;43m.\u001b[39;49m\u001b[43mReleaseAllResources\u001b[49m\u001b[43m(\u001b[49m\u001b[43m)\u001b[49m\n",
      "File \u001b[0;32m/usr/local/lib/python3.10/dist-packages/tango/device_proxy.py:336\u001b[0m, in \u001b[0;36m__get_command_func.<locals>.f\u001b[0;34m(*args, **kwds)\u001b[0m\n\u001b[1;32m    335\u001b[0m \u001b[38;5;28;01mdef\u001b[39;00m \u001b[38;5;21mf\u001b[39m(\u001b[38;5;241m*\u001b[39margs, \u001b[38;5;241m*\u001b[39m\u001b[38;5;241m*\u001b[39mkwds):\n\u001b[0;32m--> 336\u001b[0m     \u001b[38;5;28;01mreturn\u001b[39;00m \u001b[43mdp\u001b[49m\u001b[38;5;241;43m.\u001b[39;49m\u001b[43mcommand_inout\u001b[49m\u001b[43m(\u001b[49m\u001b[43mname\u001b[49m\u001b[43m,\u001b[49m\u001b[43m \u001b[49m\u001b[38;5;241;43m*\u001b[39;49m\u001b[43margs\u001b[49m\u001b[43m,\u001b[49m\u001b[43m \u001b[49m\u001b[38;5;241;43m*\u001b[39;49m\u001b[38;5;241;43m*\u001b[39;49m\u001b[43mkwds\u001b[49m\u001b[43m)\u001b[49m\n",
      "File \u001b[0;32m/usr/local/lib/python3.10/dist-packages/tango/green.py:204\u001b[0m, in \u001b[0;36mgreen.<locals>.decorator.<locals>.greener\u001b[0;34m(obj, *args, **kwargs)\u001b[0m\n\u001b[1;32m    202\u001b[0m green_mode \u001b[38;5;241m=\u001b[39m access(\u001b[38;5;124m\"\u001b[39m\u001b[38;5;124mgreen_mode\u001b[39m\u001b[38;5;124m\"\u001b[39m, \u001b[38;5;28;01mNone\u001b[39;00m)\n\u001b[1;32m    203\u001b[0m executor \u001b[38;5;241m=\u001b[39m get_object_executor(obj, green_mode)\n\u001b[0;32m--> 204\u001b[0m \u001b[38;5;28;01mreturn\u001b[39;00m \u001b[43mexecutor\u001b[49m\u001b[38;5;241;43m.\u001b[39;49m\u001b[43mrun\u001b[49m\u001b[43m(\u001b[49m\u001b[43mfn\u001b[49m\u001b[43m,\u001b[49m\u001b[43m \u001b[49m\u001b[43margs\u001b[49m\u001b[43m,\u001b[49m\u001b[43m \u001b[49m\u001b[43mkwargs\u001b[49m\u001b[43m,\u001b[49m\u001b[43m \u001b[49m\u001b[43mwait\u001b[49m\u001b[38;5;241;43m=\u001b[39;49m\u001b[43mwait\u001b[49m\u001b[43m,\u001b[49m\u001b[43m \u001b[49m\u001b[43mtimeout\u001b[49m\u001b[38;5;241;43m=\u001b[39;49m\u001b[43mtimeout\u001b[49m\u001b[43m)\u001b[49m\n",
      "File \u001b[0;32m/usr/local/lib/python3.10/dist-packages/tango/green.py:112\u001b[0m, in \u001b[0;36mAbstractExecutor.run\u001b[0;34m(self, fn, args, kwargs, wait, timeout)\u001b[0m\n\u001b[1;32m    110\u001b[0m \u001b[38;5;66;03m# Synchronous (no delegation)\u001b[39;00m\n\u001b[1;32m    111\u001b[0m \u001b[38;5;28;01mif\u001b[39;00m \u001b[38;5;129;01mnot\u001b[39;00m \u001b[38;5;28mself\u001b[39m\u001b[38;5;241m.\u001b[39masynchronous \u001b[38;5;129;01mor\u001b[39;00m \u001b[38;5;129;01mnot\u001b[39;00m \u001b[38;5;28mself\u001b[39m\u001b[38;5;241m.\u001b[39min_executor_context():\n\u001b[0;32m--> 112\u001b[0m     \u001b[38;5;28;01mreturn\u001b[39;00m \u001b[43mfn\u001b[49m\u001b[43m(\u001b[49m\u001b[38;5;241;43m*\u001b[39;49m\u001b[43margs\u001b[49m\u001b[43m,\u001b[49m\u001b[43m \u001b[49m\u001b[38;5;241;43m*\u001b[39;49m\u001b[38;5;241;43m*\u001b[39;49m\u001b[43mkwargs\u001b[49m\u001b[43m)\u001b[49m\n\u001b[1;32m    113\u001b[0m \u001b[38;5;66;03m# Asynchronous delegation\u001b[39;00m\n\u001b[1;32m    114\u001b[0m accessor \u001b[38;5;241m=\u001b[39m \u001b[38;5;28mself\u001b[39m\u001b[38;5;241m.\u001b[39mdelegate(fn, \u001b[38;5;241m*\u001b[39margs, \u001b[38;5;241m*\u001b[39m\u001b[38;5;241m*\u001b[39mkwargs)\n",
      "File \u001b[0;32m/usr/local/lib/python3.10/dist-packages/tango/connection.py:116\u001b[0m, in \u001b[0;36m__Connection__command_inout\u001b[0;34m(self, name, *args, **kwds)\u001b[0m\n\u001b[1;32m     84\u001b[0m \u001b[38;5;28;01mdef\u001b[39;00m \u001b[38;5;21m__Connection__command_inout\u001b[39m(\u001b[38;5;28mself\u001b[39m, name, \u001b[38;5;241m*\u001b[39margs, \u001b[38;5;241m*\u001b[39m\u001b[38;5;241m*\u001b[39mkwds):\n\u001b[1;32m     85\u001b[0m \u001b[38;5;250m    \u001b[39m\u001b[38;5;124;03m\"\"\"\u001b[39;00m\n\u001b[1;32m     86\u001b[0m \u001b[38;5;124;03m    command_inout( self, cmd_name, cmd_param=None, green_mode=None, wait=True, timeout=None) -> any\u001b[39;00m\n\u001b[1;32m     87\u001b[0m \n\u001b[0;32m   (...)\u001b[0m\n\u001b[1;32m    114\u001b[0m \u001b[38;5;124;03m        *timeout* parameter.\u001b[39;00m\n\u001b[1;32m    115\u001b[0m \u001b[38;5;124;03m    \"\"\"\u001b[39;00m\n\u001b[0;32m--> 116\u001b[0m     r \u001b[38;5;241m=\u001b[39m \u001b[43mConnection\u001b[49m\u001b[38;5;241;43m.\u001b[39;49m\u001b[43mcommand_inout_raw\u001b[49m\u001b[43m(\u001b[49m\u001b[38;5;28;43mself\u001b[39;49m\u001b[43m,\u001b[49m\u001b[43m \u001b[49m\u001b[43mname\u001b[49m\u001b[43m,\u001b[49m\u001b[43m \u001b[49m\u001b[38;5;241;43m*\u001b[39;49m\u001b[43margs\u001b[49m\u001b[43m,\u001b[49m\u001b[43m \u001b[49m\u001b[38;5;241;43m*\u001b[39;49m\u001b[38;5;241;43m*\u001b[39;49m\u001b[43mkwds\u001b[49m\u001b[43m)\u001b[49m\n\u001b[1;32m    117\u001b[0m     \u001b[38;5;28;01mif\u001b[39;00m \u001b[38;5;28misinstance\u001b[39m(r, DeviceData):\n\u001b[1;32m    118\u001b[0m         \u001b[38;5;28;01mtry\u001b[39;00m:\n",
      "File \u001b[0;32m/usr/local/lib/python3.10/dist-packages/tango/connection.py:145\u001b[0m, in \u001b[0;36m__Connection__command_inout_raw\u001b[0;34m(self, cmd_name, cmd_param)\u001b[0m\n\u001b[1;32m    130\u001b[0m \u001b[38;5;250m\u001b[39m\u001b[38;5;124;03m\"\"\"\u001b[39;00m\n\u001b[1;32m    131\u001b[0m \u001b[38;5;124;03mcommand_inout_raw( self, cmd_name, cmd_param=None) -> DeviceData\u001b[39;00m\n\u001b[1;32m    132\u001b[0m \n\u001b[0;32m   (...)\u001b[0m\n\u001b[1;32m    142\u001b[0m \u001b[38;5;124;03m    Throws     : ConnectionFailed, CommunicationFailed, DeviceUnlocked, DevFailed from device\u001b[39;00m\n\u001b[1;32m    143\u001b[0m \u001b[38;5;124;03m\"\"\"\u001b[39;00m\n\u001b[1;32m    144\u001b[0m param \u001b[38;5;241m=\u001b[39m __get_command_inout_param(\u001b[38;5;28mself\u001b[39m, cmd_name, cmd_param)\n\u001b[0;32m--> 145\u001b[0m \u001b[38;5;28;01mreturn\u001b[39;00m \u001b[38;5;28;43mself\u001b[39;49m\u001b[38;5;241;43m.\u001b[39;49m\u001b[43m__command_inout\u001b[49m\u001b[43m(\u001b[49m\u001b[43mcmd_name\u001b[49m\u001b[43m,\u001b[49m\u001b[43m \u001b[49m\u001b[43mparam\u001b[49m\u001b[43m)\u001b[49m\n",
      "\u001b[0;31mDevFailed\u001b[0m: DevFailed[\nDevError[\n    desc = ska_tango_base.faults.StateModelError: ReleaseAllResources command not permitted in observation state FAULT\n           \n  origin = Traceback (most recent call last):\n  File \"/usr/local/lib/python3.10/dist-packages/tango/device_server.py\", line 85, in wrapper\n    return get_worker().execute(fn, *args, **kwargs)\n  File \"/usr/local/lib/python3.10/dist-packages/tango/green.py\", line 101, in execute\n    return fn(*args, **kwargs)\n  File \"/usr/local/lib/python3.10/dist-packages/ska_tango_base/subarray/subarray_device.py\", line 661, in is_ReleaseAllResources_allowed\n    raise StateModelError(\nska_tango_base.faults.StateModelError: ReleaseAllResources command not permitted in observation state FAULT\n\n  reason = PyDs_PythonError\nseverity = ERR]\n\nDevError[\n    desc = Failed to execute command_inout on device mid-csp/subarray/01, command ReleaseAllResources\n  origin = virtual Tango::DeviceData Tango::Connection::command_inout(const string&, const Tango::DeviceData&) at (/src/cppTango/cppapi/client/devapi_base.cpp:1338)\n  reason = API_CommandFailed\nseverity = ERR]\n]"
     ]
    }
   ],
   "source": [
    "CSPSubarray.ReleaseAllResources()"
   ]
  },
  {
   "cell_type": "markdown",
   "id": "08dabc8d-7155-42e9-83db-d14264a94182",
   "metadata": {},
   "source": [
    "## Final Teardown\n",
    "NOTE: This will off the CSP and CBF and should only be done if you don't want to use the system again."
   ]
  },
  {
   "cell_type": "code",
   "execution_count": null,
   "id": "a30f5dcd-f04d-468d-82eb-5eea7e663c6d",
   "metadata": {
    "tags": []
   },
   "outputs": [],
   "source": [
    "CSP.off([]) # Check with make itf-cbf-talonlru-status - lru should be off now\n",
    "CSP.cbfSimulationMode=True\n",
    "CSP.commandTimeout=3\n",
    "CSP.adminmode=1"
   ]
  },
  {
   "cell_type": "code",
   "execution_count": null,
   "id": "0715b025-5a7c-47f6-87da-4c63ce9ae799",
   "metadata": {},
   "outputs": [],
   "source": []
  }
 ],
 "metadata": {
  "kernelspec": {
   "display_name": "Python 3 (ipykernel)",
   "language": "python",
   "name": "python3"
  },
  "language_info": {
   "codemirror_mode": {
    "name": "ipython",
    "version": 3
   },
   "file_extension": ".py",
   "mimetype": "text/x-python",
   "name": "python",
   "nbconvert_exporter": "python",
   "pygments_lexer": "ipython3",
   "version": "3.10.12"
  },
  "vscode": {
   "interpreter": {
    "hash": "9eeea5aabe130fbe75f3df83a8deea5e3832e563aa3ceb023e09d4cd6e0dfeb6"
   }
  }
 },
 "nbformat": 4,
 "nbformat_minor": 5
}
