{
 "cells": [
  {
   "cell_type": "markdown",
   "id": "bfe7397b",
   "metadata": {},
   "source": [
    "# Basic CSP Startup Script\n",
    "\n",
    "Before starting the notebook, please run the job `deploy-sut-integration` of the `integration` stage in the latest gitlab pipeline: https://gitlab.com/ska-telescope/ska-mid-itf/-/pipelines?page=1&scope=all&ref=main. \n",
    "\n",
    "<div class=\"alert alert-block alert-danger\">\n",
    "<b>WARNING</b>The CBF configuration scripts' output is extremely verbose and will cause the CI job outputs to be too large to download in a single CI job. In future this might be improved.</div>"
   ]
  },
  {
   "cell_type": "code",
   "execution_count": null,
   "id": "8b17ab52",
   "metadata": {
    "tags": []
   },
   "outputs": [],
   "source": [
    "import datetime\n",
    "import json\n",
    "import os\n",
    "\n",
    "from tango import Database, DeviceProxy\n",
    "\n",
    "# Take the namespace name from the deployment job\n",
    "KUBE_NAMESPACE = \"ci-ska-mid-itf-at-1702-add-csplmc-tests\"\n",
    "# KUBE_NAMESPACE = \"integration\"\n",
    "CLUSTER_DOMAIN = \"miditf.internal.skao.int\"\n",
    "# set the name of the databaseds service\n",
    "DATABASEDS_NAME = \"tango-databaseds\"\n",
    "\n",
    "# finally set the TANGO_HOST\n",
    "os.environ[\"TANGO_HOST\"] = f\"{DATABASEDS_NAME}.{KUBE_NAMESPACE}.svc.{CLUSTER_DOMAIN}:10000\"\n",
    "TIMEOUT = 60"
   ]
  },
  {
   "cell_type": "markdown",
   "id": "3ac7e3e9",
   "metadata": {},
   "source": [
    "List all devices available:"
   ]
  },
  {
   "cell_type": "code",
   "execution_count": null,
   "id": "fe55883a-6887-43dd-9498-5333a51799e2",
   "metadata": {
    "tags": []
   },
   "outputs": [],
   "source": [
    "database = Database()\n",
    "instance_list = database.get_device_exported(\"*\")\n",
    "for instance in instance_list.value_string:\n",
    "    dev = DeviceProxy(instance)\n",
    "    print(instance)\n",
    "    print(\"*****\")\n",
    "    print(dev.info())"
   ]
  },
  {
   "cell_type": "markdown",
   "id": "d02d35af-719f-4860-89b1-730e238d23c5",
   "metadata": {
    "tags": []
   },
   "source": [
    "## Setup Device connection and Timeouts\n",
    "Set up DeviceProxy, check AdminMode and if not 0, set to 0 (ONLINE)"
   ]
  },
  {
   "cell_type": "code",
   "execution_count": null,
   "id": "05d91830-fbc9-4a5c-a0d2-0066a50302a1",
   "metadata": {
    "tags": []
   },
   "outputs": [],
   "source": [
    "CSP = DeviceProxy(\"mid-csp/control/0\")"
   ]
  },
  {
   "cell_type": "code",
   "execution_count": null,
   "id": "4804afe2-51b1-429d-aca0-c6e1a2182224",
   "metadata": {
    "tags": []
   },
   "outputs": [],
   "source": [
    "CSP.adminmode  # This is likely currently OFFLINE"
   ]
  },
  {
   "cell_type": "code",
   "execution_count": null,
   "id": "75279df9-1438-471c-a7f2-fcb447d1fdaf",
   "metadata": {
    "tags": []
   },
   "outputs": [],
   "source": [
    "CSP.State()  # This should now be DISABLE"
   ]
  },
  {
   "cell_type": "markdown",
   "id": "ad78163e-cd23-4542-9cab-21f9d3569566",
   "metadata": {},
   "source": [
    "Set Adminmode to ONLINE and check state"
   ]
  },
  {
   "cell_type": "code",
   "execution_count": null,
   "id": "4e8b9814-c789-491c-8baa-b21787bb1561",
   "metadata": {
    "tags": []
   },
   "outputs": [],
   "source": [
    "CSP.adminmode = 0\n",
    "CSP.adminmode"
   ]
  },
  {
   "cell_type": "code",
   "execution_count": null,
   "id": "c81b3b92-6d9d-42e9-b20d-73caafbb209a",
   "metadata": {
    "tags": []
   },
   "outputs": [],
   "source": [
    "CSP.State()  # This should now be OFF"
   ]
  },
  {
   "cell_type": "markdown",
   "id": "deaa3389-e66d-4793-9dc1-61c02b9253fa",
   "metadata": {},
   "source": [
    "Check CBF SimulationMode (this should be FALSE for real hardware control)"
   ]
  },
  {
   "cell_type": "code",
   "execution_count": null,
   "id": "3e3e34cf-68ad-426b-87e0-a502d09078c9",
   "metadata": {
    "tags": []
   },
   "outputs": [],
   "source": [
    "CSP.cbfSimulationMode  # Should be True if hardware is not currently under CSP.LMC control"
   ]
  },
  {
   "cell_type": "code",
   "execution_count": null,
   "id": "4ef43614-994e-4193-b751-905b5b716124",
   "metadata": {
    "tags": []
   },
   "outputs": [],
   "source": [
    "CSP.cbfSimulationMode = False\n",
    "CSP.cbfSimulationMode"
   ]
  },
  {
   "cell_type": "markdown",
   "id": "e2a4eb6a-c082-4e9a-9acc-82771591443f",
   "metadata": {},
   "source": [
    "Set Timeout to 60 seconds as the ON command is a long-running command and check value"
   ]
  },
  {
   "cell_type": "code",
   "execution_count": null,
   "id": "705a3be2-270c-426c-bf35-1c5459457377",
   "metadata": {
    "tags": []
   },
   "outputs": [],
   "source": [
    "CSP.commandTimeout = TIMEOUT\n",
    "CSP.commandTimeout"
   ]
  },
  {
   "cell_type": "markdown",
   "id": "3218da85",
   "metadata": {},
   "source": [
    "## Check all relevant device states\n",
    "Now check if all the devices are switched on as they should be.\n",
    "Use the [Taranta Dashboard](https://k8s.miditf.internal.skao.int/integration/taranta/dashboard?id=6543b36cf6d53e0019b95cf1&mode=run) to monitor top-level devices!"
   ]
  },
  {
   "cell_type": "markdown",
   "id": "e8cbbb25-801d-4ef5-b965-bcd3e06946e5",
   "metadata": {},
   "source": [
    "## Send command sequence\n",
    "### Send the ON command. \n",
    "NOTE: an empty list sends the ON command to ALL the subsystems, specific subsystems are turned on if specified in a list of subsystem FQDNs"
   ]
  },
  {
   "cell_type": "code",
   "execution_count": null,
   "id": "b4ea8f84-c50c-4abc-b6ac-8850ff53794f",
   "metadata": {
    "tags": []
   },
   "outputs": [],
   "source": [
    "CSP.on([])"
   ]
  },
  {
   "cell_type": "code",
   "execution_count": null,
   "id": "160a7ca3-144f-4415-b3bc-fbba624958b6",
   "metadata": {
    "tags": []
   },
   "outputs": [],
   "source": [
    "CSP.State()  # this should now be ON"
   ]
  },
  {
   "cell_type": "markdown",
   "id": "801db827-28b8-4cfd-a5cd-6d3206f7b81a",
   "metadata": {},
   "source": [
    "### Control the CSP Subarray\n",
    "Set up a Tango DeviceProxy to the CSP Subarray device\n"
   ]
  },
  {
   "cell_type": "code",
   "execution_count": null,
   "id": "634eb864-475f-4568-b024-eff52fc9c3ae",
   "metadata": {
    "tags": []
   },
   "outputs": [],
   "source": [
    "CSPSubarray = DeviceProxy(\"mid-csp/subarray/01\")"
   ]
  },
  {
   "cell_type": "markdown",
   "id": "7dbe0330-75fe-453f-bdf3-8e770e3b9a15",
   "metadata": {},
   "source": [
    "### Send AssignResource"
   ]
  },
  {
   "cell_type": "code",
   "execution_count": null,
   "id": "892e0a48-c0f3-47bd-83c1-f3e1f9280551",
   "metadata": {
    "tags": []
   },
   "outputs": [],
   "source": [
    "resources = json.dumps({\"subarray_id\": 1, \"dish\": {\"receptor_ids\": [\"SKA001\"]}})\n",
    "\n",
    "CSPSubarray1.AssignResources(resources)"
   ]
  },
  {
   "cell_type": "markdown",
   "id": "ef3d3d38-0514-49dd-8170-fb827781298a",
   "metadata": {},
   "source": [
    "### Send ConfigureScan command\n",
    "NOTE: get the IP address of the interface of the SDP Surrogate pod and modify the JSON for the configure scan with it, before you run this command!!!\n",
    "\n",
    "Send this directly to the CBF Subarray device - refer to https://k8s.miditf.internal.skao.int/ci-ska-mid-itf-at-1702-add-csplmc-tests/taranta/dashboard?id=655c5c2d72024f001940aca8 for the correct command (open the button config in Taranta).\n"
   ]
  },
  {
   "cell_type": "markdown",
   "id": "4667e32d-7ce2-4550-ad07-79cda0a01d57",
   "metadata": {},
   "source": [
    "#### Copy this JSON and modify \n",
    "Uncomment the first line after getting it from the kubectl command output and modifying SDP_HOST_IP_ADDRESS"
   ]
  },
  {
   "cell_type": "code",
   "execution_count": null,
   "id": "d74034bb-126e-4185-b57f-d20dcf06df40",
   "metadata": {
    "tags": []
   },
   "outputs": [],
   "source": [
    "SDP_HOST_IP_ADDRESS = \"10.165.20.30\"  # this is the IP address of the receiver interface\n",
    "configuredata = {\n",
    "    \"interface\": \"https://schema.skao.int/ska-csp-configure/2.3\",\n",
    "    \"subarray\": {\"subarray_name\": \"Single receptor\"},\n",
    "    \"common\": {\n",
    "        \"config_id\": \"1 receptor, band 1, 1 FSP, no options\",\n",
    "        \"frequency_band\": \"1\",\n",
    "        \"subarray_id\": 0,\n",
    "    },\n",
    "    \"cbf\": {\n",
    "        \"delay_model_subscription_point\": \"ska_mid/tm_leaf_node/csp_subarray_01/delayModel\",\n",
    "        \"rfi_flagging_mask\": {},\n",
    "        \"fsp\": [\n",
    "            {\n",
    "                \"fsp_id\": 1,\n",
    "                \"function_mode\": \"CORR\",\n",
    "                \"receptors\": [\"SKA001\"],\n",
    "                \"frequency_slice_id\": 1,\n",
    "                \"zoom_factor\": 1,\n",
    "                \"zoom_window_tuning\": 450000,\n",
    "                \"integration_factor\": 10,\n",
    "                \"channel_offset\": 14880,\n",
    "                \"output_link_map\": [\n",
    "                    [0, 4],\n",
    "                    [744, 8],\n",
    "                    [1488, 12],\n",
    "                    [2232, 16],\n",
    "                    [2976, 20],\n",
    "                    [3720, 24],\n",
    "                    [4464, 28],\n",
    "                    [5206, 32],\n",
    "                    [5952, 36],\n",
    "                    [6696, 40],\n",
    "                    [7440, 44],\n",
    "                    [8184, 48],\n",
    "                    [8928, 52],\n",
    "                    [9672, 56],\n",
    "                    [10416, 60],\n",
    "                    [11160, 64],\n",
    "                    [11904, 68],\n",
    "                    [12648, 72],\n",
    "                    [13392, 76],\n",
    "                    [14136, 80],\n",
    "                ],\n",
    "                \"output_host\": [[0, \"10.165.20.31\"]],\n",
    "                \"output_port\": [[0, 14000, 1]],\n",
    "            }\n",
    "        ],\n",
    "    },\n",
    "}\n",
    "configuredata[\"cbf\"][\"fsp\"][0][\"output_host\"] = SDP_HOST_IP_ADDRESS"
   ]
  },
  {
   "cell_type": "code",
   "execution_count": null,
   "id": "f6f99439-7cbd-48f0-ac23-452f7585f812",
   "metadata": {
    "tags": []
   },
   "outputs": [],
   "source": [
    "CBFSubarray = DeviceProxy(\"mid_csp_cbf/sub_elt/subarray_01\")"
   ]
  },
  {
   "cell_type": "code",
   "execution_count": null,
   "id": "87781d17-fc49-44da-9f7a-ea148d444561",
   "metadata": {
    "tags": []
   },
   "outputs": [],
   "source": [
    "CBFSubarray1.ConfigureScan(json.dumps(configuredata))"
   ]
  },
  {
   "cell_type": "markdown",
   "id": "8c09b34d-357a-46be-a29c-96cb0004eda4",
   "metadata": {},
   "source": [
    "## Setup BITE data stream\n",
    "Copy the output of the next print line and paste into your shell."
   ]
  },
  {
   "cell_type": "code",
   "execution_count": null,
   "id": "d436c29c-8cb9-40c7-8d4f-d5860da57da7",
   "metadata": {
    "tags": []
   },
   "outputs": [],
   "source": [
    "print(\n",
    "    f\"kubectl -n {KUBE_NAMESPACE} exec ec-bite -- python3 midcbf_bite.py --talon-bite-lstv-replay --boards=1\"\n",
    ")"
   ]
  },
  {
   "cell_type": "markdown",
   "id": "f0ac1938-83cf-4d21-93e1-a5df11a9c5ec",
   "metadata": {},
   "source": [
    "### Upload the Delaymodel\n"
   ]
  },
  {
   "cell_type": "code",
   "execution_count": null,
   "id": "963ce848-5a66-4b27-8ce1-a5bd04838fba",
   "metadata": {
    "tags": []
   },
   "outputs": [],
   "source": [
    "# Generate the Delaymodel and check if it was was correctly sent:\n",
    "sub = DeviceProxy(\"ska_mid/tm_leaf_node/csp_subarray_01\")\n",
    "current_time = float(datetime.datetime.utcnow().replace(tzinfo=datetime.timezone.utc).timestamp())\n",
    "dm = {\n",
    "    \"interface\": \"https://schema.skao.int/ska-csp-delaymodel/2.2\",\n",
    "    \"epoch\": current_time,\n",
    "    \"validity_period\": 400.0,\n",
    "    \"delay_details\": [\n",
    "        {\n",
    "            \"receptor\": \"SKA001\",\n",
    "            \"poly_info\": [\n",
    "                {\"polarization\": \"X\", \"coeffs\": [0.0, 0.0, 0.0, 0.0, 0.0, 0.0]},\n",
    "                {\"polarization\": \"Y\", \"coeffs\": [0.0, 0.0, 0.0, 0.0, 0.0, 0.0]},\n",
    "            ],\n",
    "        }\n",
    "    ],\n",
    "}\n",
    "sub.delayModel = json.dumps(dm)\n",
    "assert sub.delayModel == json.dumps(dm), f\"Expected {dm}, got\\n{sub.delayModel}\""
   ]
  },
  {
   "cell_type": "markdown",
   "id": "3d3324a4-8021-491e-991a-e93ec0f50e47",
   "metadata": {},
   "source": [
    "## Scan\n",
    "By now, we are supposed to look at the output of `tcpdump -i net1` in the SDP Surrogate pod and see data!"
   ]
  },
  {
   "cell_type": "markdown",
   "id": "80de1414-6cd3-4796-a814-372040618a36",
   "metadata": {},
   "source": [
    "## End Scan (CSP Subarray)\n",
    "If this fails because things were in READY, that means you didn't need to run it now - DON'T PANIC!\n",
    "\n",
    "Run this if device is in "
   ]
  },
  {
   "cell_type": "code",
   "execution_count": null,
   "id": "cce18930-73a1-409a-b42d-e7119f6d184f",
   "metadata": {
    "tags": []
   },
   "outputs": [],
   "source": [
    "CSPSubarray1.EndScan()"
   ]
  },
  {
   "cell_type": "markdown",
   "id": "42da8d8b-8101-4546-bb8c-cb98486ace17",
   "metadata": {},
   "source": [
    "## Go To Idle (CSP Subarray)\n",
    "CSPSubarray1.GoToIdle()"
   ]
  },
  {
   "cell_type": "code",
   "execution_count": null,
   "id": "3863dae5-a7df-478c-8af6-7eca68f46153",
   "metadata": {
    "tags": []
   },
   "outputs": [],
   "source": [
    "CSPSubarray1.obsState"
   ]
  },
  {
   "cell_type": "markdown",
   "id": "d289c397-883f-4d33-ba93-e049f25536fd",
   "metadata": {},
   "source": [
    "## Release Resources (CSP Subarray)\n",
    "### Run either ReleaseAllResources, or ReleaseResources(<samejsonfilefortheothercommand>)"
   ]
  },
  {
   "cell_type": "code",
   "execution_count": null,
   "id": "f4cacb7b-479f-4cb5-a520-f621f0c40adc",
   "metadata": {
    "tags": []
   },
   "outputs": [],
   "source": [
    "CSPSubarray1.ReleaseAllResources()"
   ]
  },
  {
   "cell_type": "markdown",
   "id": "08dabc8d-7155-42e9-83db-d14264a94182",
   "metadata": {},
   "source": [
    "## Final Teardown\n",
    "NOTE: This will off the CSP and CBF and should only be done if you don't want to use the system again."
   ]
  },
  {
   "cell_type": "code",
   "execution_count": null,
   "id": "a30f5dcd-f04d-468d-82eb-5eea7e663c6d",
   "metadata": {
    "tags": []
   },
   "outputs": [],
   "source": [
    "CSP.off([])  # Check with make itf-cbf-talonlru-status - lru should be off now\n",
    "CSP.cbfSimulationMode = True\n",
    "CSP.commandTimeout = 3\n",
    "CSP.adminmode = 1"
   ]
  },
  {
   "cell_type": "code",
   "execution_count": null,
   "id": "0715b025-5a7c-47f6-87da-4c63ce9ae799",
   "metadata": {},
   "outputs": [],
   "source": []
  }
 ],
 "metadata": {
  "kernelspec": {
   "display_name": "Python 3 (ipykernel)",
   "language": "python",
   "name": "python3"
  },
  "language_info": {
   "codemirror_mode": {
    "name": "ipython",
    "version": 3
   },
   "file_extension": ".py",
   "mimetype": "text/x-python",
   "name": "python",
   "nbconvert_exporter": "python",
   "pygments_lexer": "ipython3",
   "version": "3.10.12"
  },
  "vscode": {
   "interpreter": {
    "hash": "9eeea5aabe130fbe75f3df83a8deea5e3832e563aa3ceb023e09d4cd6e0dfeb6"
   }
  }
 },
 "nbformat": 4,
 "nbformat_minor": 5
}
