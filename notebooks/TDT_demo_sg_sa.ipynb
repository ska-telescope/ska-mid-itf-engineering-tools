{
 "cells": [
  {
   "cell_type": "markdown",
   "id": "58534a83-dc18-48c9-888a-8ed2f73eba03",
   "metadata": {},
   "source": [
    "## Connect and Setup Tango"
   ]
  },
  {
   "cell_type": "code",
   "execution_count": 3,
   "id": "0532c2c9-f91a-4a7f-81f2-d0f36e1a3dc2",
   "metadata": {},
   "outputs": [],
   "source": [
    "import os\n",
    "from tango import DeviceProxy, EventType\n",
    "\n",
    "# specify here the namespace to connect in this cluster\n",
    "KUBE_NAMESPACE = \"integration-itf\"\n",
    "\n",
    "# set the name of the databaseds service\n",
    "DATABASEDS_NAME = \"tango-databaseds\"\n",
    "\n",
    "# finally set the TANGO_HOST\n",
    "os.environ[\"TANGO_HOST\"] = f\"{DATABASEDS_NAME}.{KUBE_NAMESPACE}.svc.cluster.local:10000\"\n"
   ]
  },
  {
   "cell_type": "markdown",
   "id": "df0bd733-186a-405b-abc1-37b28885317d",
   "metadata": {},
   "source": [
    "## Connect to Signal Generator"
   ]
  },
  {
   "cell_type": "code",
   "execution_count": 24,
   "id": "91ba7add-c239-40d1-907a-6aee6cc38810",
   "metadata": {},
   "outputs": [],
   "source": [
    "siggen = DeviceProxy(\"test-itf/siggen/1\")"
   ]
  },
  {
   "cell_type": "code",
   "execution_count": 25,
   "id": "132dff53-d32c-4350-8c7c-9bfefa39b5bc",
   "metadata": {},
   "outputs": [
    {
     "data": {
      "text/plain": [
       "<adminMode.ONLINE: 0>"
      ]
     },
     "execution_count": 25,
     "metadata": {},
     "output_type": "execute_result"
    }
   ],
   "source": [
    "## Query admin mode\n",
    "siggen.adminmode"
   ]
  },
  {
   "cell_type": "code",
   "execution_count": 26,
   "id": "ed529b5e-3e03-4c05-92e7-1c7ed98eb9d4",
   "metadata": {},
   "outputs": [],
   "source": [
    "## Set admin mode 0 = ON, 1 = OFF\n",
    "siggen.adminmode = 0\n"
   ]
  },
  {
   "cell_type": "code",
   "execution_count": 28,
   "id": "757d32be-0f46-4589-b2fa-68d0a2e0740e",
   "metadata": {},
   "outputs": [],
   "source": [
    "siggen.power_dbm = -20"
   ]
  },
  {
   "cell_type": "code",
   "execution_count": 30,
   "id": "ee5ab4f3-4799-4f8d-bbf3-613d7ced0faa",
   "metadata": {},
   "outputs": [],
   "source": [
    "siggen.frequency = 2.5e9"
   ]
  },
  {
   "cell_type": "markdown",
   "id": "d1a529d6-8ccc-4e31-90c9-8c0a55e80a3e",
   "metadata": {},
   "source": [
    "## Configure Spectrum Analyser"
   ]
  },
  {
   "cell_type": "code",
   "execution_count": 12,
   "id": "3974129c-c18f-4a5a-aad2-044d13a52181",
   "metadata": {},
   "outputs": [],
   "source": [
    "sa = DeviceProxy(\"test-itf/spectana/1\")"
   ]
  },
  {
   "cell_type": "code",
   "execution_count": 16,
   "id": "c6491b40-71c0-4935-9a07-c052148c9d11",
   "metadata": {},
   "outputs": [
    {
     "data": {
      "text/plain": [
       "<adminMode.ONLINE: 0>"
      ]
     },
     "execution_count": 16,
     "metadata": {},
     "output_type": "execute_result"
    }
   ],
   "source": [
    "sa.adminmode"
   ]
  },
  {
   "cell_type": "code",
   "execution_count": 15,
   "id": "26899e05-b7de-4ef2-a0e7-1f586912210b",
   "metadata": {},
   "outputs": [],
   "source": [
    "sa.adminmode = 0"
   ]
  },
  {
   "cell_type": "code",
   "execution_count": 31,
   "id": "5ae002d1-3301-419f-9f77-511b7246bf7d",
   "metadata": {},
   "outputs": [],
   "source": [
    "sa.reference_level = -10"
   ]
  },
  {
   "cell_type": "code",
   "execution_count": 19,
   "id": "5177ce02-4de5-48e3-a54b-3517385ccf8a",
   "metadata": {},
   "outputs": [],
   "source": [
    "sa.frequency_start = 1e9"
   ]
  },
  {
   "cell_type": "code",
   "execution_count": 20,
   "id": "da8c182b-5921-4596-999f-65dd91e3d1c9",
   "metadata": {},
   "outputs": [],
   "source": [
    "sa.frequency_stop = 3e9"
   ]
  },
  {
   "cell_type": "code",
   "execution_count": null,
   "id": "0c75433e-2e5b-401d-bdcc-8bf876cfbc51",
   "metadata": {},
   "outputs": [],
   "source": []
  },
  {
   "cell_type": "code",
   "execution_count": null,
   "id": "e028ee47-8a3a-4475-ae0b-7634fccdcbec",
   "metadata": {},
   "outputs": [],
   "source": []
  }
 ],
 "metadata": {
  "kernelspec": {
   "display_name": "jupyTango",
   "language": "python",
   "name": "jupytango"
  },
  "language_info": {
   "codemirror_mode": {
    "name": "ipython",
    "version": 3
   },
   "file_extension": ".py",
   "mimetype": "text/x-python",
   "name": "python",
   "nbconvert_exporter": "python",
   "pygments_lexer": "ipython3",
   "version": "3.10.5"
  }
 },
 "nbformat": 4,
 "nbformat_minor": 5
}
